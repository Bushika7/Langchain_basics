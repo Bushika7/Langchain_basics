{
 "cells": [
  {
   "cell_type": "code",
   "id": "1e0c3332-9f8c-4835-9608-a355ed0e8b99",
   "metadata": {
    "ExecuteTime": {
     "end_time": "2024-08-01T11:48:49.112625Z",
     "start_time": "2024-08-01T11:48:43.910391Z"
    }
   },
   "source": [
    "import pandas as pd\n",
    "import numpy as np\n",
    "import os\n",
    "import openai"
   ],
   "outputs": [],
   "execution_count": 1
  },
  {
   "cell_type": "code",
   "id": "ad3be33b-b239-4923-863a-319b9945086b",
   "metadata": {
    "ExecuteTime": {
     "end_time": "2024-08-01T11:48:49.129902Z",
     "start_time": "2024-08-01T11:48:49.115627Z"
    }
   },
   "source": [
    "api_key = os.getenv(\"OPENAI_API_KEY\")"
   ],
   "outputs": [],
   "execution_count": 2
  },
  {
   "cell_type": "code",
   "id": "c6e5e658-4118-499b-ad86-b02b13f57505",
   "metadata": {
    "ExecuteTime": {
     "end_time": "2024-08-01T11:48:49.721670Z",
     "start_time": "2024-08-01T11:48:49.133901Z"
    }
   },
   "source": [
    "client = openai.OpenAI(api_key = api_key)"
   ],
   "outputs": [],
   "execution_count": 3
  },
  {
   "cell_type": "code",
   "id": "138a4e29-ff52-463a-8615-4056e6ce316d",
   "metadata": {
    "ExecuteTime": {
     "end_time": "2024-08-01T11:48:50.667939Z",
     "start_time": "2024-08-01T11:48:49.723681Z"
    }
   },
   "source": [
    "df = pd.read_csv(\"../movie.csv\")"
   ],
   "outputs": [],
   "execution_count": 4
  },
  {
   "cell_type": "code",
   "id": "8ad0902b-f37c-4c0d-b110-599929cdbd71",
   "metadata": {
    "ExecuteTime": {
     "end_time": "2024-08-01T11:48:50.731854Z",
     "start_time": "2024-08-01T11:48:50.702524Z"
    }
   },
   "source": "df.tail()",
   "outputs": [
    {
     "data": {
      "text/plain": [
       "                                                    text  label\n",
       "39995  \"Western Union\" is something of a forgotten cl...      1\n",
       "39996  This movie is an incredible piece of work. It ...      1\n",
       "39997  My wife and I watched this movie because we pl...      0\n",
       "39998  When I first watched Flatliners, I was amazed....      1\n",
       "39999  Why would this film be so good, but only gross...      1"
      ],
      "text/html": [
       "<div>\n",
       "<style scoped>\n",
       "    .dataframe tbody tr th:only-of-type {\n",
       "        vertical-align: middle;\n",
       "    }\n",
       "\n",
       "    .dataframe tbody tr th {\n",
       "        vertical-align: top;\n",
       "    }\n",
       "\n",
       "    .dataframe thead th {\n",
       "        text-align: right;\n",
       "    }\n",
       "</style>\n",
       "<table border=\"1\" class=\"dataframe\">\n",
       "  <thead>\n",
       "    <tr style=\"text-align: right;\">\n",
       "      <th></th>\n",
       "      <th>text</th>\n",
       "      <th>label</th>\n",
       "    </tr>\n",
       "  </thead>\n",
       "  <tbody>\n",
       "    <tr>\n",
       "      <th>39995</th>\n",
       "      <td>\"Western Union\" is something of a forgotten cl...</td>\n",
       "      <td>1</td>\n",
       "    </tr>\n",
       "    <tr>\n",
       "      <th>39996</th>\n",
       "      <td>This movie is an incredible piece of work. It ...</td>\n",
       "      <td>1</td>\n",
       "    </tr>\n",
       "    <tr>\n",
       "      <th>39997</th>\n",
       "      <td>My wife and I watched this movie because we pl...</td>\n",
       "      <td>0</td>\n",
       "    </tr>\n",
       "    <tr>\n",
       "      <th>39998</th>\n",
       "      <td>When I first watched Flatliners, I was amazed....</td>\n",
       "      <td>1</td>\n",
       "    </tr>\n",
       "    <tr>\n",
       "      <th>39999</th>\n",
       "      <td>Why would this film be so good, but only gross...</td>\n",
       "      <td>1</td>\n",
       "    </tr>\n",
       "  </tbody>\n",
       "</table>\n",
       "</div>"
      ]
     },
     "execution_count": 6,
     "metadata": {},
     "output_type": "execute_result"
    }
   ],
   "execution_count": 6
  },
  {
   "cell_type": "code",
   "id": "d130a122-a65b-4adb-b877-103aef39c48a",
   "metadata": {
    "ExecuteTime": {
     "end_time": "2024-08-01T11:50:34.989879Z",
     "start_time": "2024-08-01T11:50:34.966908Z"
    }
   },
   "source": [
    "df['label'].replace({0:'negative', 1:'positive'}, inplace=True)\n",
    "df.head()"
   ],
   "outputs": [
    {
     "name": "stderr",
     "output_type": "stream",
     "text": [
      "C:\\Users\\Bushika7\\AppData\\Local\\Temp\\ipykernel_8372\\1593159159.py:1: FutureWarning: A value is trying to be set on a copy of a DataFrame or Series through chained assignment using an inplace method.\n",
      "The behavior will change in pandas 3.0. This inplace method will never work because the intermediate object on which we are setting values always behaves as a copy.\n",
      "\n",
      "For example, when doing 'df[col].method(value, inplace=True)', try using 'df.method({col: value}, inplace=True)' or df[col] = df[col].method(value) instead, to perform the operation inplace on the original object.\n",
      "\n",
      "\n",
      "  df['label'].replace({0:'negative', 1:'positive'}, inplace=True)\n"
     ]
    },
    {
     "data": {
      "text/plain": [
       "                                                text     label\n",
       "0  I grew up (b. 1965) watching and loving the Th...  negative\n",
       "1  When I put this movie in my DVD player, and sa...  negative\n",
       "2  Why do people who do not know what a particula...  negative\n",
       "3  Even though I have great interest in Biblical ...  negative\n",
       "4  Im a die hard Dads Army fan and nothing will e...  positive"
      ],
      "text/html": [
       "<div>\n",
       "<style scoped>\n",
       "    .dataframe tbody tr th:only-of-type {\n",
       "        vertical-align: middle;\n",
       "    }\n",
       "\n",
       "    .dataframe tbody tr th {\n",
       "        vertical-align: top;\n",
       "    }\n",
       "\n",
       "    .dataframe thead th {\n",
       "        text-align: right;\n",
       "    }\n",
       "</style>\n",
       "<table border=\"1\" class=\"dataframe\">\n",
       "  <thead>\n",
       "    <tr style=\"text-align: right;\">\n",
       "      <th></th>\n",
       "      <th>text</th>\n",
       "      <th>label</th>\n",
       "    </tr>\n",
       "  </thead>\n",
       "  <tbody>\n",
       "    <tr>\n",
       "      <th>0</th>\n",
       "      <td>I grew up (b. 1965) watching and loving the Th...</td>\n",
       "      <td>negative</td>\n",
       "    </tr>\n",
       "    <tr>\n",
       "      <th>1</th>\n",
       "      <td>When I put this movie in my DVD player, and sa...</td>\n",
       "      <td>negative</td>\n",
       "    </tr>\n",
       "    <tr>\n",
       "      <th>2</th>\n",
       "      <td>Why do people who do not know what a particula...</td>\n",
       "      <td>negative</td>\n",
       "    </tr>\n",
       "    <tr>\n",
       "      <th>3</th>\n",
       "      <td>Even though I have great interest in Biblical ...</td>\n",
       "      <td>negative</td>\n",
       "    </tr>\n",
       "    <tr>\n",
       "      <th>4</th>\n",
       "      <td>Im a die hard Dads Army fan and nothing will e...</td>\n",
       "      <td>positive</td>\n",
       "    </tr>\n",
       "  </tbody>\n",
       "</table>\n",
       "</div>"
      ]
     },
     "execution_count": 7,
     "metadata": {},
     "output_type": "execute_result"
    }
   ],
   "execution_count": 7
  },
  {
   "metadata": {
    "ExecuteTime": {
     "end_time": "2024-08-01T14:04:32.303793Z",
     "start_time": "2024-08-01T14:04:32.289977Z"
    }
   },
   "cell_type": "code",
   "source": [
    "system_message = '''\n",
    "You are an AI assistant who's task is to do sentiment analysis on multiple movie reviews.\n",
    "Given a review, based on their sentiment, you classify it into one of two categories: positive or negative.\n",
    "Text: \"I love this product! It's fantastic and works perfectly.\"\n",
    "Positive\n",
    "Text: \"I'm really disappointed with the quality of the food.\"\n",
    "Negative\n",
    "Text: \"This is the best day of my life!\"\n",
    "Positive\n",
    "Text: \"I can't stand the noise in this restaurant.\"\n",
    "Negative\n",
    "ONLY return the sentiment as output (without punctuation).\n",
    "'''"
   ],
   "id": "1aef10c0441cc6f",
   "outputs": [],
   "execution_count": 52
  },
  {
   "metadata": {
    "ExecuteTime": {
     "end_time": "2024-08-01T12:38:31.526982Z",
     "start_time": "2024-08-01T12:38:31.499680Z"
    }
   },
   "cell_type": "code",
   "source": [
    "subset = df.sample(5, random_state = 75)\n",
    "print(subset, type(subset))"
   ],
   "id": "b546ca2a13113b0b",
   "outputs": [
    {
     "name": "stdout",
     "output_type": "stream",
     "text": [
      "                                                    text     label\n",
      "3406   After The Funeral was absolutely superb, and b...  positive\n",
      "19464  I'm gonna tip the scales here a bit and say I ...  positive\n",
      "14719  I run a group to stop comedian exploitation an...  negative\n",
      "23125  I, like many horror fans, have been force fed ...  positive\n",
      "15507  William Powell's final outing as Philo Vance o...  positive <class 'pandas.core.frame.DataFrame'>\n"
     ]
    }
   ],
   "execution_count": 47
  },
  {
   "metadata": {
    "ExecuteTime": {
     "end_time": "2024-08-01T12:25:13.362935Z",
     "start_time": "2024-08-01T12:25:13.354080Z"
    }
   },
   "cell_type": "code",
   "source": "user_data = subset['text'].to_string()",
   "id": "6ede8b9064758250",
   "outputs": [],
   "execution_count": 34
  },
  {
   "metadata": {
    "ExecuteTime": {
     "end_time": "2024-08-01T12:25:15.315292Z",
     "start_time": "2024-08-01T12:25:15.303627Z"
    }
   },
   "cell_type": "code",
   "source": "print(user_data, type(user_data))",
   "id": "bbc5c2f24ea7c562",
   "outputs": [
    {
     "name": "stdout",
     "output_type": "stream",
     "text": [
      "32823    The central theme in this movie seems to be co...\n",
      "16298    An excellent example of \"cowboy noir\", as it's...\n",
      "28505    The ending made my heart jump up into my throa...\n",
      "6689     Only the chosen ones will appreciate the quali...\n",
      "26893    This is a really funny film, especially the se... <class 'str'>\n"
     ]
    }
   ],
   "execution_count": 35
  },
  {
   "metadata": {
    "ExecuteTime": {
     "end_time": "2024-08-01T14:04:36.527028Z",
     "start_time": "2024-08-01T14:04:36.515206Z"
    }
   },
   "cell_type": "code",
   "source": [
    "def response(user_data):\n",
    "    chat_completion = client.chat.completions.create(\n",
    "        model = \"gpt-4-turbo\", \n",
    "        messages= (\n",
    "                    {\"role\": \"system\", \"content\": system_message},\n",
    "                    {\"role\": \"user\", \"content\": user_data}\n",
    "        )\n",
    "    )\n",
    "    \n",
    "    return chat_completion.choices[0].message.content\n",
    "\n"
   ],
   "id": "46d81b359a04d28",
   "outputs": [],
   "execution_count": 53
  },
  {
   "metadata": {
    "ExecuteTime": {
     "end_time": "2024-08-01T14:04:40.994327Z",
     "start_time": "2024-08-01T14:04:37.597749Z"
    }
   },
   "cell_type": "code",
   "source": [
    "subset['OpenAI_results'] = subset['text'].apply(response)\n",
    "subset.head()"
   ],
   "id": "4ac1fb1055c08a4",
   "outputs": [
    {
     "data": {
      "text/plain": [
       "                                                    text     label  \\\n",
       "3406   After The Funeral was absolutely superb, and b...  positive   \n",
       "19464  I'm gonna tip the scales here a bit and say I ...  positive   \n",
       "14719  I run a group to stop comedian exploitation an...  negative   \n",
       "23125  I, like many horror fans, have been force fed ...  positive   \n",
       "15507  William Powell's final outing as Philo Vance o...  positive   \n",
       "\n",
       "      OpenAI_results  \n",
       "3406        Positive  \n",
       "19464       Negative  \n",
       "14719       Negative  \n",
       "23125       Positive  \n",
       "15507       Positive  "
      ],
      "text/html": [
       "<div>\n",
       "<style scoped>\n",
       "    .dataframe tbody tr th:only-of-type {\n",
       "        vertical-align: middle;\n",
       "    }\n",
       "\n",
       "    .dataframe tbody tr th {\n",
       "        vertical-align: top;\n",
       "    }\n",
       "\n",
       "    .dataframe thead th {\n",
       "        text-align: right;\n",
       "    }\n",
       "</style>\n",
       "<table border=\"1\" class=\"dataframe\">\n",
       "  <thead>\n",
       "    <tr style=\"text-align: right;\">\n",
       "      <th></th>\n",
       "      <th>text</th>\n",
       "      <th>label</th>\n",
       "      <th>OpenAI_results</th>\n",
       "    </tr>\n",
       "  </thead>\n",
       "  <tbody>\n",
       "    <tr>\n",
       "      <th>3406</th>\n",
       "      <td>After The Funeral was absolutely superb, and b...</td>\n",
       "      <td>positive</td>\n",
       "      <td>Positive</td>\n",
       "    </tr>\n",
       "    <tr>\n",
       "      <th>19464</th>\n",
       "      <td>I'm gonna tip the scales here a bit and say I ...</td>\n",
       "      <td>positive</td>\n",
       "      <td>Negative</td>\n",
       "    </tr>\n",
       "    <tr>\n",
       "      <th>14719</th>\n",
       "      <td>I run a group to stop comedian exploitation an...</td>\n",
       "      <td>negative</td>\n",
       "      <td>Negative</td>\n",
       "    </tr>\n",
       "    <tr>\n",
       "      <th>23125</th>\n",
       "      <td>I, like many horror fans, have been force fed ...</td>\n",
       "      <td>positive</td>\n",
       "      <td>Positive</td>\n",
       "    </tr>\n",
       "    <tr>\n",
       "      <th>15507</th>\n",
       "      <td>William Powell's final outing as Philo Vance o...</td>\n",
       "      <td>positive</td>\n",
       "      <td>Positive</td>\n",
       "    </tr>\n",
       "  </tbody>\n",
       "</table>\n",
       "</div>"
      ]
     },
     "execution_count": 54,
     "metadata": {},
     "output_type": "execute_result"
    }
   ],
   "execution_count": 54
  },
  {
   "metadata": {
    "ExecuteTime": {
     "end_time": "2024-08-01T14:12:06.413170Z",
     "start_time": "2024-08-01T14:12:06.399980Z"
    }
   },
   "cell_type": "code",
   "source": "print(subset['text'].iloc[1])",
   "id": "9051b83055add765",
   "outputs": [
    {
     "name": "stdout",
     "output_type": "stream",
     "text": [
      "I'm gonna tip the scales here a bit and say I enjoyed this. However, the cartoon is really only going to appeal to those who have very absurdist tendencies. It's definitely something that most people will not get, as is the nature of absurdism.<br /><br />the animation is horrible, but yes, that's the point. The main character is foul mouthed, violent, and stupid. no redeeming qualities whatsoever. his wife shrieks and wails, apparently just barely capable of the most basic communication skills. most of these stories completely lack any kind of point.<br /><br />but again, that's the point ;)<br /><br />If non sequiters, foul language, and complete and utter randomness are your thing, you're going to love this.<br /><br />It is really short, so I would probably rent instead of buying.\n"
     ]
    }
   ],
   "execution_count": 55
  },
  {
   "metadata": {},
   "cell_type": "code",
   "outputs": [],
   "execution_count": null,
   "source": "",
   "id": "fad9ecff09b980df"
  }
 ],
 "metadata": {
  "kernelspec": {
   "display_name": ".venv",
   "language": "python",
   "name": ".venv"
  },
  "language_info": {
   "codemirror_mode": {
    "name": "ipython",
    "version": 3
   },
   "file_extension": ".py",
   "mimetype": "text/x-python",
   "name": "python",
   "nbconvert_exporter": "python",
   "pygments_lexer": "ipython3",
   "version": "3.12.3"
  }
 },
 "nbformat": 4,
 "nbformat_minor": 5
}
